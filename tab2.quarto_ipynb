{
  "cells": [
    {
      "cell_type": "markdown",
      "metadata": {},
      "source": [
        "---\n",
        "title: \"Programme structure\"\n",
        "output: html_document\n",
        "---\n",
        "\n",
        "```{html}\n",
        "<div>\n",
        "    <p>This is the text for the first module. It is placed on the right side of the image.</p>\n",
        "</div>\n",
        "```"
      ],
      "id": "d02bae04"
    }
  ],
  "metadata": {
    "kernelspec": {
      "display_name": "Python 3",
      "language": "python",
      "name": "python3"
    }
  },
  "nbformat": 4,
  "nbformat_minor": 5
}